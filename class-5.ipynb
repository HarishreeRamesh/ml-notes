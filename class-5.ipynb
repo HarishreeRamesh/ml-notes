{
 "cells": [
  {
   "cell_type": "code",
   "execution_count": null,
   "id": "98a6129b",
   "metadata": {},
   "outputs": [],
   "source": [
    "#overfeeding- the model is trying to remember everthing"
   ]
  },
  {
   "cell_type": "code",
   "execution_count": null,
   "id": "1d0ce168",
   "metadata": {},
   "outputs": [],
   "source": [
    "#root of x2-y2"
   ]
  },
  {
   "cell_type": "code",
   "execution_count": null,
   "id": "94ef2102",
   "metadata": {},
   "outputs": [],
   "source": [
    "\n"
   ]
  },
  {
   "cell_type": "code",
   "execution_count": null,
   "id": "304fc566",
   "metadata": {},
   "outputs": [],
   "source": []
  },
  {
   "cell_type": "code",
   "execution_count": null,
   "id": "91f2b6ca",
   "metadata": {},
   "outputs": [],
   "source": []
  },
  {
   "cell_type": "code",
   "execution_count": null,
   "id": "03b9f045",
   "metadata": {},
   "outputs": [],
   "source": []
  },
  {
   "cell_type": "code",
   "execution_count": null,
   "id": "c65fc19e",
   "metadata": {},
   "outputs": [],
   "source": []
  },
  {
   "cell_type": "code",
   "execution_count": null,
   "id": "59347ed5",
   "metadata": {},
   "outputs": [],
   "source": []
  }
 ],
 "metadata": {
  "kernelspec": {
   "display_name": "Python 3 (ipykernel)",
   "language": "python",
   "name": "python3"
  },
  "language_info": {
   "codemirror_mode": {
    "name": "ipython",
    "version": 3
   },
   "file_extension": ".py",
   "mimetype": "text/x-python",
   "name": "python",
   "nbconvert_exporter": "python",
   "pygments_lexer": "ipython3",
   "version": "3.10.9"
  }
 },
 "nbformat": 4,
 "nbformat_minor": 5
}
